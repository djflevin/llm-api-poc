{
 "cells": [
  {
   "cell_type": "code",
   "execution_count": 9,
   "metadata": {},
   "outputs": [
    {
     "name": "stdout",
     "output_type": "stream",
     "text": [
      "Ascertain iPhone 15's presence in U.S. shops {'url': 'https://www.klarna.com/us/shopping', 'path': '/public/openai/v0/products', 'method': 'GET', 'queryParams': {'countryCode': 'US', 'q': 'iPhone 15', 'size': 1}}\n"
     ]
    }
   ],
   "source": [
    "import json\n",
    "with open ('results.json', 'r') as f:\n",
    "    data = json.load(f)\n",
    "\n",
    "for key, value in data.items():\n",
    "    #print(value == {'url': 'https://www.klarna.com/us/shopping', 'path': '/public/openai/v0/products', 'method': 'GET', 'queryParams': {'countryCode': 'US', 'q': 'iPhone 15'}})\n",
    "    if(value != {'url': 'https://www.klarna.com/us/shopping', 'path': '/public/openai/v0/products', 'method': 'GET', 'queryParams': {'countryCode': 'US', 'q': 'iPhone 15'}}):\n",
    "        print(key, value)"
   ]
  }
 ],
 "metadata": {
  "kernelspec": {
   "display_name": "Python 3 (ipykernel)",
   "language": "python",
   "name": "python3"
  },
  "language_info": {
   "codemirror_mode": {
    "name": "ipython",
    "version": 3
   },
   "file_extension": ".py",
   "mimetype": "text/x-python",
   "name": "python",
   "nbconvert_exporter": "python",
   "pygments_lexer": "ipython3",
   "version": "3.9.12"
  },
  "orig_nbformat": 4
 },
 "nbformat": 4,
 "nbformat_minor": 2
}
